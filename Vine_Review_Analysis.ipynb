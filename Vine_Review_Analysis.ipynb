{
  "nbformat": 4,
  "nbformat_minor": 0,
  "metadata": {
    "colab": {
      "name": "Vine_Review_Analysis.ipynb",
      "provenance": []
    },
    "kernelspec": {
      "name": "python3",
      "display_name": "Python 3"
    },
    "language_info": {
      "name": "python"
    }
  },
  "cells": [
    {
      "cell_type": "code",
      "metadata": {
        "colab": {
          "base_uri": "https://localhost:8080/"
        },
        "id": "xU7n7WcC5tp6",
        "outputId": "a9e9c124-d774-4c90-f790-5e990a1bd297"
      },
      "source": [
        "import os\n",
        "spark_version = 'spark-3.2.0'\n",
        "os.environ['SPARK_VERSION']=spark_version\n",
        "\n",
        "# Install Spark and Java\n",
        "!apt-get update\n",
        "!apt-get install openjdk-11-jdk-headless -qq > /dev/null\n",
        "!wget -q http://www.apache.org/dist/spark/$SPARK_VERSION/$SPARK_VERSION-bin-hadoop2.7.tgz\n",
        "!tar xf $SPARK_VERSION-bin-hadoop2.7.tgz\n",
        "!pip install -q findspark\n",
        "\n",
        "# Set Environment Variables\n",
        "import os\n",
        "os.environ[\"JAVA_HOME\"] = \"/usr/lib/jvm/java-11-openjdk-amd64\"\n",
        "os.environ[\"SPARK_HOME\"] = f\"/content/{spark_version}-bin-hadoop2.7\"\n",
        "\n",
        "# Start a SparkSession\n",
        "import findspark\n",
        "findspark.init()"
      ],
      "execution_count": null,
      "outputs": [
        {
          "output_type": "stream",
          "name": "stdout",
          "text": [
            "Hit:1 https://cloud.r-project.org/bin/linux/ubuntu bionic-cran40/ InRelease\n",
            "Get:2 http://security.ubuntu.com/ubuntu bionic-security InRelease [88.7 kB]\n",
            "Hit:3 http://ppa.launchpad.net/c2d4u.team/c2d4u4.0+/ubuntu bionic InRelease\n",
            "Hit:4 http://archive.ubuntu.com/ubuntu bionic InRelease\n",
            "Get:5 http://archive.ubuntu.com/ubuntu bionic-updates InRelease [88.7 kB]\n",
            "Hit:6 http://ppa.launchpad.net/cran/libgit2/ubuntu bionic InRelease\n",
            "Hit:7 http://ppa.launchpad.net/deadsnakes/ppa/ubuntu bionic InRelease\n",
            "Ign:8 https://developer.download.nvidia.com/compute/cuda/repos/ubuntu1804/x86_64  InRelease\n",
            "Get:9 http://archive.ubuntu.com/ubuntu bionic-backports InRelease [74.6 kB]\n",
            "Hit:10 http://ppa.launchpad.net/graphics-drivers/ppa/ubuntu bionic InRelease\n",
            "Ign:11 https://developer.download.nvidia.com/compute/machine-learning/repos/ubuntu1804/x86_64  InRelease\n",
            "Hit:12 https://developer.download.nvidia.com/compute/cuda/repos/ubuntu1804/x86_64  Release\n",
            "Hit:13 https://developer.download.nvidia.com/compute/machine-learning/repos/ubuntu1804/x86_64  Release\n",
            "Fetched 252 kB in 2s (105 kB/s)\n",
            "Reading package lists... Done\n"
          ]
        }
      ]
    },
    {
      "cell_type": "code",
      "metadata": {
        "id": "2XS_jJVL50db"
      },
      "source": [
        "# Start Spark session\n",
        "from pyspark.sql import SparkSession\n",
        "spark = SparkSession.builder.appName(\"demographicsFilter\").getOrCreate()"
      ],
      "execution_count": null,
      "outputs": []
    },
    {
      "cell_type": "code",
      "metadata": {
        "id": "kVJssf8B6fXZ"
      },
      "source": [
        "from pyspark import SparkFiles\n",
        "url = \"https://s3.amazonaws.com/amazon-reviews-pds/tsv/amazon_reviews_us_Video_DVD_v1_00.tsv.gz\"\n",
        "spark.sparkContext.addFile(url)\n",
        "df = spark.read.option(\"encoding\", \"UTF-8\").csv(SparkFiles.get(\"\"), sep=\"\\t\", header=True, inferSchema=True)"
      ],
      "execution_count": null,
      "outputs": []
    },
    {
      "cell_type": "code",
      "metadata": {
        "colab": {
          "base_uri": "https://localhost:8080/"
        },
        "id": "4zkRkCH66ixI",
        "outputId": "37b19d3b-c6f1-4c00-a4ed-d02d1042b378"
      },
      "source": [
        "# Create the vine_table. DataFrame\n",
        "vine_df = df.select(['review_id','star_rating','helpful_votes','total_votes','vine','verified_purchase'])\n",
        "vine_df.show(5)"
      ],
      "execution_count": null,
      "outputs": [
        {
          "output_type": "stream",
          "name": "stdout",
          "text": [
            "+--------------+-----------+-------------+-----------+----+-----------------+\n",
            "|     review_id|star_rating|helpful_votes|total_votes|vine|verified_purchase|\n",
            "+--------------+-----------+-------------+-----------+----+-----------------+\n",
            "| R33UPQQUZQEM8|          5|            3|          3|   N|                Y|\n",
            "|R3IKTNQQPD9662|          5|            0|          0|   N|                Y|\n",
            "|R3U27V5QMCP27T|          5|            1|          1|   N|                Y|\n",
            "|R2TOH2QKNK4IOC|          5|            0|          1|   N|                Y|\n",
            "|R2XQG5NJ59UFMY|          5|            0|          0|   N|                Y|\n",
            "+--------------+-----------+-------------+-----------+----+-----------------+\n",
            "only showing top 5 rows\n",
            "\n"
          ]
        }
      ]
    },
    {
      "cell_type": "code",
      "metadata": {
        "colab": {
          "base_uri": "https://localhost:8080/"
        },
        "id": "4SC1vLrH7Jbf",
        "outputId": "db2031b6-5df7-48c2-9404-fb35a982bfb5"
      },
      "source": [
        "# Filter data and create a table to retrieve rows where total_votes count is = or > 20\n",
        "vine_20_df = vine_df.filter(\"total_votes>=20\")\n",
        "vine_20_df.show()"
      ],
      "execution_count": null,
      "outputs": [
        {
          "output_type": "stream",
          "name": "stdout",
          "text": [
            "+--------------+-----------+-------------+-----------+----+-----------------+\n",
            "|     review_id|star_rating|helpful_votes|total_votes|vine|verified_purchase|\n",
            "+--------------+-----------+-------------+-----------+----+-----------------+\n",
            "|R31EUR60FV3BU5|          4|           32|         39|   N|                N|\n",
            "|R12Q1NO1HI9PP4|          1|            4|         86|   N|                N|\n",
            "|R3MDX24QDAT0OW|          4|           35|         37|   N|                N|\n",
            "|R2YVFZB4ESDT7D|          5|          139|        141|   N|                Y|\n",
            "| R6TNONSNFM82I|          1|            0|         28|   N|                Y|\n",
            "|R2R8EWH1JUZCSI|          5|           16|         21|   N|                N|\n",
            "| RUNB838XKMB59|          1|            8|         23|   N|                N|\n",
            "|R3I8GORXGEJL3R|          4|           95|        103|   N|                Y|\n",
            "|R2WFUSIPJ3X0FR|          1|            9|         53|   N|                N|\n",
            "| RONWXF0J85CRR|          5|           42|         50|   N|                N|\n",
            "|R15OUJIUGMTNW7|          1|            1|         33|   N|                N|\n",
            "|R2QQJIJZIUSQBH|          1|           16|         20|   N|                N|\n",
            "| RGWTSZJT5WJ35|          1|            9|         50|   N|                N|\n",
            "|R3O7T74HRIXBE5|          5|           53|         55|   N|                Y|\n",
            "| RSU37FK0W4DPE|          4|           26|         28|   N|                N|\n",
            "|R22H100N6EUD0Y|          5|           30|         32|   N|                Y|\n",
            "| R4VC9LDQGIE5K|          5|           26|         37|   N|                N|\n",
            "| RWMH3PU2EECVA|          5|           35|         38|   N|                Y|\n",
            "|R2XTQWXL65VPOZ|          4|           22|         24|   N|                N|\n",
            "| RGIM9S035SVIA|          4|           38|         44|   N|                N|\n",
            "+--------------+-----------+-------------+-----------+----+-----------------+\n",
            "only showing top 20 rows\n",
            "\n"
          ]
        }
      ]
    },
    {
      "cell_type": "code",
      "metadata": {
        "colab": {
          "base_uri": "https://localhost:8080/"
        },
        "id": "Zkf1nDsd77Zj",
        "outputId": "391022e2-41f9-41d9-832e-ba3fdc64a51e"
      },
      "source": [
        "# Filter and create a table that helpful_votes divided by total_votes is equal to or greater than 50%.\n",
        "vine_50_df = vine_20_df.filter(\"helpful_votes/total_votes >= 0.5\")\n",
        "vine_50_df.show()"
      ],
      "execution_count": null,
      "outputs": [
        {
          "output_type": "stream",
          "name": "stdout",
          "text": [
            "+--------------+-----------+-------------+-----------+----+-----------------+\n",
            "|     review_id|star_rating|helpful_votes|total_votes|vine|verified_purchase|\n",
            "+--------------+-----------+-------------+-----------+----+-----------------+\n",
            "|R31EUR60FV3BU5|          4|           32|         39|   N|                N|\n",
            "|R3MDX24QDAT0OW|          4|           35|         37|   N|                N|\n",
            "|R2YVFZB4ESDT7D|          5|          139|        141|   N|                Y|\n",
            "|R2R8EWH1JUZCSI|          5|           16|         21|   N|                N|\n",
            "|R3I8GORXGEJL3R|          4|           95|        103|   N|                Y|\n",
            "| RONWXF0J85CRR|          5|           42|         50|   N|                N|\n",
            "|R2QQJIJZIUSQBH|          1|           16|         20|   N|                N|\n",
            "|R3O7T74HRIXBE5|          5|           53|         55|   N|                Y|\n",
            "| RSU37FK0W4DPE|          4|           26|         28|   N|                N|\n",
            "|R22H100N6EUD0Y|          5|           30|         32|   N|                Y|\n",
            "| R4VC9LDQGIE5K|          5|           26|         37|   N|                N|\n",
            "| RWMH3PU2EECVA|          5|           35|         38|   N|                Y|\n",
            "|R2XTQWXL65VPOZ|          4|           22|         24|   N|                N|\n",
            "| RGIM9S035SVIA|          4|           38|         44|   N|                N|\n",
            "|R18ZPPQ2CZKG41|          5|           16|         20|   N|                N|\n",
            "|R2FK3TE1JD2UXM|          5|           40|         44|   N|                N|\n",
            "|R22X6BZQKZA30V|          1|           29|         34|   N|                Y|\n",
            "| RS3V339OCGT2D|          5|           84|         97|   N|                N|\n",
            "| RCZ5IXAQ4J4NQ|          5|           22|         36|   N|                N|\n",
            "| ROS0GMA6IUSCP|          5|           34|         36|   N|                N|\n",
            "+--------------+-----------+-------------+-----------+----+-----------------+\n",
            "only showing top 20 rows\n",
            "\n"
          ]
        }
      ]
    },
    {
      "cell_type": "code",
      "metadata": {
        "colab": {
          "base_uri": "https://localhost:8080/"
        },
        "id": "jbHU3whGAFjo",
        "outputId": "c9191658-b04d-43e6-c874-67da3147efcd"
      },
      "source": [
        "# The review was written as part of the Vine program (paid).\n",
        "vine_paid_df = vine_50_df.filter(vine_50_df.vine == \"Y\")\n",
        "vine_paid_df.show(5)"
      ],
      "execution_count": null,
      "outputs": [
        {
          "output_type": "stream",
          "name": "stdout",
          "text": [
            "+--------------+-----------+-------------+-----------+----+-----------------+\n",
            "|     review_id|star_rating|helpful_votes|total_votes|vine|verified_purchase|\n",
            "+--------------+-----------+-------------+-----------+----+-----------------+\n",
            "|R3PBQ665MBL8CP|          3|           66|         72|   Y|                N|\n",
            "|R3EMD30K7MNOZ0|          2|           20|         25|   Y|                N|\n",
            "|R2GF3ZLO2B0Y71|          5|          236|        243|   Y|                N|\n",
            "|R1F8T2Z7U3N6HL|          3|           11|         20|   Y|                N|\n",
            "| R5QTOT1GVR8RG|          4|           16|         20|   Y|                N|\n",
            "+--------------+-----------+-------------+-----------+----+-----------------+\n",
            "only showing top 5 rows\n",
            "\n"
          ]
        }
      ]
    },
    {
      "cell_type": "code",
      "metadata": {
        "colab": {
          "base_uri": "https://localhost:8080/"
        },
        "id": "Q-156GfKAeAG",
        "outputId": "9c8bb7bc-8336-4998-a1e1-51bfdfa58d10"
      },
      "source": [
        "# The review was not part of the Vine program (unpaid).\n",
        "vine_unpaid_df = vine_50_df.filter(vine_50_df.vine == \"N\")\n",
        "vine_unpaid_df.show(5)"
      ],
      "execution_count": null,
      "outputs": [
        {
          "output_type": "stream",
          "name": "stdout",
          "text": [
            "+--------------+-----------+-------------+-----------+----+-----------------+\n",
            "|     review_id|star_rating|helpful_votes|total_votes|vine|verified_purchase|\n",
            "+--------------+-----------+-------------+-----------+----+-----------------+\n",
            "|R31EUR60FV3BU5|          4|           32|         39|   N|                N|\n",
            "|R3MDX24QDAT0OW|          4|           35|         37|   N|                N|\n",
            "|R2YVFZB4ESDT7D|          5|          139|        141|   N|                Y|\n",
            "|R2R8EWH1JUZCSI|          5|           16|         21|   N|                N|\n",
            "|R3I8GORXGEJL3R|          4|           95|        103|   N|                Y|\n",
            "+--------------+-----------+-------------+-----------+----+-----------------+\n",
            "only showing top 5 rows\n",
            "\n"
          ]
        }
      ]
    },
    {
      "cell_type": "code",
      "metadata": {
        "id": "_ZKslW0kJ_Wk"
      },
      "source": [
        "# the total number of reviews, the number of 5-star reviews, and the percentage of 5-star reviews\n",
        "total_reviews = vine_paid_df.select(\"star_rating\").count()"
      ],
      "execution_count": null,
      "outputs": []
    },
    {
      "cell_type": "code",
      "metadata": {
        "id": "3dolBPq0N7VO"
      },
      "source": [
        "total_reviews_un = vine_unpaid_df.select(\"star_rating\").count()"
      ],
      "execution_count": null,
      "outputs": []
    },
    {
      "cell_type": "code",
      "metadata": {
        "id": "oqyHH9j0JwFN"
      },
      "source": [
        "five_stars = vine_paid_df.filter(\"star_rating=5\").select(\"star_rating\").count()"
      ],
      "execution_count": null,
      "outputs": []
    },
    {
      "cell_type": "code",
      "metadata": {
        "id": "njgnq7hKN8Iu"
      },
      "source": [
        "five_stars_un = vine_unpaid_df.filter(\"star_rating=5\").select(\"star_rating\").count()"
      ],
      "execution_count": null,
      "outputs": []
    },
    {
      "cell_type": "code",
      "metadata": {
        "colab": {
          "base_uri": "https://localhost:8080/"
        },
        "id": "rzjBZiqFLB3L",
        "outputId": "1dd97b67-8a61-4552-d741-23377fe355d1"
      },
      "source": [
        "print(\"Paid\")\n",
        "print(f\"Total number of reviews: {total_reviews}\")\n",
        "print(f\"The number of 5-star: {five_stars}\")\n",
        "print(f\"The percentage of 5-star reviews: {five_stars/total_reviews*100}%\")"
      ],
      "execution_count": null,
      "outputs": [
        {
          "output_type": "stream",
          "name": "stdout",
          "text": [
            "Paid\n",
            "Total number of reviews: 49\n",
            "The number of 5-star: 9\n",
            "The percentage of 5-star reviews: 18.367346938775512%\n"
          ]
        }
      ]
    },
    {
      "cell_type": "code",
      "metadata": {
        "id": "_-1C2nM-PILi",
        "colab": {
          "base_uri": "https://localhost:8080/"
        },
        "outputId": "b0d2feba-d10f-483f-b78b-fa39dce16cbe"
      },
      "source": [
        "print(\"Unpaid\")\n",
        "print(f\"Total number of reviews: {total_reviews_un}\")\n",
        "print(f\"The number of 5-star: {five_stars_un}\")\n",
        "print(f\"The percentage of 5-star reviews: {five_stars_un/total_reviews_un*100}%\")"
      ],
      "execution_count": null,
      "outputs": [
        {
          "output_type": "stream",
          "name": "stdout",
          "text": [
            "Unpaid\n",
            "Total number of reviews: 151400\n",
            "The number of 5-star: 78061\n",
            "The percentage of 5-star reviews: 51.55944517833554%\n"
          ]
        }
      ]
    }
  ]
}